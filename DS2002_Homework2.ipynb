{
  "nbformat": 4,
  "nbformat_minor": 0,
  "metadata": {
    "colab": {
      "provenance": [],
      "authorship_tag": "ABX9TyNtiSGNlHoNODOJV/0mlFpe",
      "include_colab_link": true
    },
    "kernelspec": {
      "name": "python3",
      "display_name": "Python 3"
    },
    "language_info": {
      "name": "python"
    }
  },
  "cells": [
    {
      "cell_type": "markdown",
      "metadata": {
        "id": "view-in-github",
        "colab_type": "text"
      },
      "source": [
        "<a href=\"https://colab.research.google.com/github/jht4xj/DS2002-SP23/blob/main/DS2002_Homework2.ipynb\" target=\"_parent\"><img src=\"https://colab.research.google.com/assets/colab-badge.svg\" alt=\"Open In Colab\"/></a>"
      ]
    },
    {
      "cell_type": "code",
      "execution_count": 26,
      "metadata": {
        "id": "UsnS6shbTnAQ"
      },
      "outputs": [],
      "source": [
        "import json\n",
        "import pandas as pd\n",
        "import requests"
      ]
    },
    {
      "cell_type": "code",
      "source": [
        "#get stock from the user\n",
        "stock=input()"
      ],
      "metadata": {
        "id": "nKDeHHUOwrMJ",
        "colab": {
          "base_uri": "https://localhost:8080/"
        },
        "outputId": "be2c34f1-d5bc-4af9-9f24-f8b2d04c0a12"
      },
      "execution_count": 27,
      "outputs": [
        {
          "name": "stdout",
          "output_type": "stream",
          "text": [
            "IE\n"
          ]
        }
      ]
    },
    {
      "cell_type": "code",
      "source": [
        "print(\"The Stock we will research is: \" + stock)"
      ],
      "metadata": {
        "colab": {
          "base_uri": "https://localhost:8080/"
        },
        "id": "xK1QaOngwxan",
        "outputId": "010d804f-9379-494d-925d-0f18c0472482"
      },
      "execution_count": 30,
      "outputs": [
        {
          "output_type": "stream",
          "name": "stdout",
          "text": [
            "The Stock we will research is: IE\n"
          ]
        }
      ]
    },
    {
      "cell_type": "code",
      "source": [
        "apikey=\"ce06mFdWJAQo12ZpRCty5Su6ZrqurJV15EP5Wfrj\"\n",
        "\n",
        "url = \"https://yfapi.net/v6/finance/quote\"\n",
        "\n",
        "querystring = {\"symbols\":stock}\n",
        "\n",
        "headers = {\n",
        "    'x-api-key': apikey\n",
        "    }\n",
        "\n",
        "response = requests.request(\"GET\", url, headers=headers, params=querystring)\n",
        "\n",
        "print(response.text)"
      ],
      "metadata": {
        "colab": {
          "base_uri": "https://localhost:8080/"
        },
        "id": "k_Keax9Ew1AS",
        "outputId": "453965cd-69af-437f-b91e-ad30baa84777"
      },
      "execution_count": 31,
      "outputs": [
        {
          "output_type": "stream",
          "name": "stdout",
          "text": [
            "{\"quoteResponse\":{\"result\":[{\"language\":\"en-US\",\"region\":\"US\",\"quoteType\":\"EQUITY\",\"typeDisp\":\"Equity\",\"quoteSourceName\":\"Delayed Quote\",\"triggerable\":true,\"customPriceAlertConfidence\":\"HIGH\",\"marketState\":\"POSTPOST\",\"currency\":\"USD\",\"exchange\":\"ASE\",\"shortName\":\"Ivanhoe Electric Inc.\",\"longName\":\"Ivanhoe Electric Inc.\",\"messageBoardId\":\"finmb_715542551\",\"market\":\"us_market\",\"regularMarketChangePercent\":1.41143,\"regularMarketPrice\":14.37,\"exchangeTimezoneName\":\"America/New_York\",\"exchangeTimezoneShortName\":\"EST\",\"gmtOffSetMilliseconds\":-18000000,\"esgPopulated\":false,\"firstTradeDateMilliseconds\":1656423000000,\"priceHint\":2,\"postMarketChangePercent\":1.7397356,\"postMarketTime\":1677536758,\"postMarketPrice\":14.62,\"postMarketChange\":0.25,\"regularMarketChange\":0.2,\"regularMarketTime\":1677531600,\"regularMarketDayHigh\":14.6799,\"regularMarketDayRange\":\"14.05 - 14.6799\",\"regularMarketDayLow\":14.05,\"regularMarketVolume\":244937,\"regularMarketPreviousClose\":14.17,\"bid\":14.3,\"ask\":14.38,\"bidSize\":12,\"askSize\":10,\"fullExchangeName\":\"NYSE American\",\"financialCurrency\":\"USD\",\"regularMarketOpen\":14.24,\"averageDailyVolume3Month\":254698,\"averageDailyVolume10Day\":330350,\"fiftyTwoWeekLowChange\":7.3599997,\"fiftyTwoWeekLowChangePercent\":1.0499285,\"fiftyTwoWeekRange\":\"7.01 - 15.98\",\"fiftyTwoWeekHighChange\":-1.6099997,\"fiftyTwoWeekHighChangePercent\":-0.10075092,\"fiftyTwoWeekLow\":7.01,\"fiftyTwoWeekHigh\":15.98,\"trailingAnnualDividendRate\":0.0,\"trailingAnnualDividendYield\":0.0,\"epsTrailingTwelveMonths\":-1.43,\"epsForward\":-0.7,\"epsCurrentYear\":-1.49,\"priceEpsCurrentYear\":-9.644295,\"sharesOutstanding\":92887904,\"bookValue\":2.625,\"fiftyDayAverage\":13.3454,\"fiftyDayAverageChange\":1.0246,\"fiftyDayAverageChangePercent\":0.07677552,\"twoHundredDayAverage\":10.658024,\"twoHundredDayAverageChange\":3.711976,\"twoHundredDayAverageChangePercent\":0.34827995,\"marketCap\":1334799232,\"forwardPE\":-20.528572,\"priceToBook\":5.4742856,\"sourceInterval\":15,\"exchangeDataDelayedBy\":0,\"ipoExpectedDate\":\"2022-06-28\",\"averageAnalystRating\":\"1.7 - Buy\",\"tradeable\":false,\"cryptoTradeable\":false,\"displayName\":\"Ivanhoe Electric\",\"symbol\":\"IE\"}],\"error\":null}}\n"
          ]
        }
      ]
    },
    {
      "cell_type": "code",
      "source": [
        "stock_json = response.json() \n",
        "print(\"Name Ticker: \" + stock_json['quoteResponse']['result'][0][\"symbol\"] + \", \" + \"Full Company Name: \" + stock_json['quoteResponse']['result'][0][\"displayName\"] + \",\" + \" Price: $\" + str(stock_json['quoteResponse']['result'][0][\"regularMarketPrice\"]))"
      ],
      "metadata": {
        "colab": {
          "base_uri": "https://localhost:8080/"
        },
        "id": "1kf6NYd5xK26",
        "outputId": "b98b5f47-ae87-4470-b32f-22df4d2f337e"
      },
      "execution_count": 32,
      "outputs": [
        {
          "output_type": "stream",
          "name": "stdout",
          "text": [
            "Name Ticker: IE, Full Company Name: Ivanhoe Electric, Price: $14.37\n"
          ]
        }
      ]
    },
    {
      "cell_type": "code",
      "source": [
        "def get_target_price(stock):\n",
        "  try:\n",
        "    global apikey\n",
        "    url = \"https://yfapi.net/ws/insights/v1/finance/insights?symbol=ie\"\n",
        "    querystring = {\"symbol\":stock}\n",
        "    headers = {\n",
        "    'x-api-key': apikey\n",
        "    }\n",
        "    response = requests.request(\"GET\", url, headers=headers, params=querystring)\n",
        "    stock_json = response.json\n",
        "    jsonresult = json.dumps(response.json)\n",
        "    return stock_json['finance']['result']['instrumentInfo']['recommendation']['targetPrice']\n",
        "  except:\n",
        "    print(\"Error. Check that your stock input is correct.\")\n",
        "print(get_target_price(stock))"
      ],
      "metadata": {
        "colab": {
          "base_uri": "https://localhost:8080/"
        },
        "id": "VQTHxTONoeHp",
        "outputId": "5cc08897-0600-4d2a-8132-f054a9bb859a"
      },
      "execution_count": 47,
      "outputs": [
        {
          "output_type": "stream",
          "name": "stdout",
          "text": [
            "Error. Check that your stock input is correct.\n",
            "None\n"
          ]
        }
      ]
    },
    {
      "cell_type": "code",
      "source": [
        "def get_profit_margin(stock):\n",
        "  try:\n",
        "    global apikey\n",
        "    url = \"https://yfapi.net/v11/finance/quoteSummary/ie?lang=en&region=US&modules=defaultKeyStatistics%2CassetProfile\"\n",
        "    querystring = {\"symbols\":stock}\n",
        "    headers = {\n",
        "    'x-api-key': apikey\n",
        "    }\n",
        "    response = requests.request(\"GET\", url, headers=headers, params=querystring)\n",
        "    stock_json = response.json\n",
        "    jsonresult = json.dumps(response.json)\n",
        "    return stock_json['quoteSummary']['result'][0]['defaultKeyStatistics']['profitMargins']['fmt']\n",
        "  except:\n",
        "    print(\"Error. Check that your stock input is correct.\")\n",
        "print(get_target_price(stock))"
      ],
      "metadata": {
        "colab": {
          "base_uri": "https://localhost:8080/"
        },
        "id": "NLwL1NL0tPQ6",
        "outputId": "97af288b-6f5c-455e-fb63-6c87b410ea58"
      },
      "execution_count": 48,
      "outputs": [
        {
          "output_type": "stream",
          "name": "stdout",
          "text": [
            "Error. Check that your stock input is correct.\n",
            "None\n"
          ]
        }
      ]
    }
  ]
}